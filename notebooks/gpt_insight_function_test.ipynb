{
 "cells": [
  {
   "cell_type": "markdown",
   "id": "c83c912e",
   "metadata": {},
   "source": [
    "# GPT-Insight Function Test"
   ]
  },
  {
   "cell_type": "code",
   "execution_count": 5,
   "id": "978d35b7",
   "metadata": {},
   "outputs": [],
   "source": [
    "import requests\n",
    "import json"
   ]
  },
  {
   "cell_type": "code",
   "execution_count": 55,
   "id": "9bf7e09a",
   "metadata": {},
   "outputs": [],
   "source": [
    "azure_function_url = \"https://gpt-insight-function-app.azurewebsites.net/api/HttpTrigger\"\n",
    "\n",
    "sales_data = [\n",
    "    {\"product\": \"Laptop\", \"sales\": 1500, \"region\": \"North\"},\n",
    "    {\"product\": \"Smartphone\", \"sales\": 1200, \"region\": \"South\"},\n",
    "    {\"product\": \"Tablet\", \"sales\": 800, \"region\": \"East\"},\n",
    "    {\"product\": \"Monitor\", \"sales\": 600, \"region\": \"West\"}\n",
    "]\n",
    "\n",
    "sales_description = \"\"\"This dataset contains sales data for various products across different regions.\n",
    "                    Each entry includes the product name, sales amount, and the region where the \n",
    "                    sales occurred.\"\"\"\n",
    "\n",
    "sales_chart_name = \"Sales Data Overview\"\n",
    "\n",
    "payload = {\n",
    "    \"data\": [\n",
    "                {\n",
    "                    \"chart_description\": sales_description,\n",
    "                    \"chart_name\": sales_chart_name,\n",
    "                    \"chart_data\": sales_data\n",
    "                },\n",
    "            ]\n",
    "            }\n",
    "\n",
    "payload_json = json.dumps(payload)\n"
   ]
  },
  {
   "cell_type": "code",
   "execution_count": 56,
   "id": "e2ff5624",
   "metadata": {},
   "outputs": [
    {
     "data": {
      "text/plain": [
       "{'data': [{'chart_description': 'This dataset contains sales data for various products across different regions.\\n                    Each entry includes the product name, sales amount, and the region where the \\n                    sales occurred.',\n",
       "   'chart_name': 'Sales Data Overview',\n",
       "   'chart_data': [{'product': 'Laptop', 'sales': 1500, 'region': 'North'},\n",
       "    {'product': 'Smartphone', 'sales': 1200, 'region': 'South'},\n",
       "    {'product': 'Tablet', 'sales': 800, 'region': 'East'},\n",
       "    {'product': 'Monitor', 'sales': 600, 'region': 'West'}]}]}"
      ]
     },
     "execution_count": 56,
     "metadata": {},
     "output_type": "execute_result"
    }
   ],
   "source": [
    "payload"
   ]
  },
  {
   "cell_type": "code",
   "execution_count": 57,
   "id": "ac09a4ca",
   "metadata": {},
   "outputs": [
    {
     "name": "stdout",
     "output_type": "stream",
     "text": [
      "Status Code: 200\n",
      "Insights: Based on the sales data overview, it is crucial to analyze the sales performance of each product across different regions to identify top-performing products and target markets effectively. Source: Sales Data Overview.\n"
     ]
    }
   ],
   "source": [
    "response = requests.post(\n",
    "    azure_function_url,\n",
    "    data=payload_json\n",
    ")\n",
    "\n",
    "try:\n",
    "    message = f'Insights: {response.json()[\"insights\"]}'\n",
    "except Exception as e:\n",
    "    message = response.text\n",
    "\n",
    "print(f\"Status Code: {response.status_code}\\n{message}\")"
   ]
  },
  {
   "cell_type": "code",
   "execution_count": null,
   "id": "4bbe03e1",
   "metadata": {},
   "outputs": [],
   "source": []
  }
 ],
 "metadata": {
  "kernelspec": {
   "display_name": "azureexamples",
   "language": "python",
   "name": "python3"
  },
  "language_info": {
   "codemirror_mode": {
    "name": "ipython",
    "version": 3
   },
   "file_extension": ".py",
   "mimetype": "text/x-python",
   "name": "python",
   "nbconvert_exporter": "python",
   "pygments_lexer": "ipython3",
   "version": "3.11.10"
  }
 },
 "nbformat": 4,
 "nbformat_minor": 5
}
